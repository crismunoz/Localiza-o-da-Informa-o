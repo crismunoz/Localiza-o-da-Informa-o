{
 "cells": [
  {
   "cell_type": "markdown",
   "metadata": {},
   "source": [
    "# Tutorial Python"
   ]
  },
  {
   "cell_type": "markdown",
   "metadata": {},
   "source": [
    "# 1. Introdução"
   ]
  },
  {
   "cell_type": "markdown",
   "metadata": {},
   "source": [
    "<img src=\"hw.png\" >"
   ]
  },
  {
   "cell_type": "code",
   "execution_count": null,
   "metadata": {
    "collapsed": false
   },
   "outputs": [],
   "source": []
  },
  {
   "cell_type": "markdown",
   "metadata": {},
   "source": [
    "## 1.1. Indentation (recuo)\n",
    "``` python\n",
    "if(nome==\"Cristian\"):\n",
    "    print(\"Hello\", nome)\n",
    "else:\n",
    "    print(\"Hello world\")\n",
    "```"
   ]
  },
  {
   "cell_type": "code",
   "execution_count": null,
   "metadata": {
    "collapsed": true
   },
   "outputs": [],
   "source": []
  },
  {
   "cell_type": "markdown",
   "metadata": {},
   "source": [
    "## 1.2. Comentarios:\n",
    "```python\n",
    "# Este exemplo que mostra um comentario de uma linha classica\n",
    "\n",
    "\"\"\"\n",
    "Este exemplo mostra um comentario \n",
    "utilizando varias linhas\n",
    "\"\"\"\n",
    "```"
   ]
  },
  {
   "cell_type": "markdown",
   "metadata": {},
   "source": [
    "# 2. Tipos de variaveis"
   ]
  },
  {
   "cell_type": "markdown",
   "metadata": {},
   "source": [
    "## 2.1. String , Numbers, Null\n",
    "\n",
    "\n",
    "```python\n",
    "name = \"Cristian Munoz (Eu!!)\"\n",
    "\n",
    "year = 2010\n",
    "\n",
    "pi = 3.14.159265\n",
    "\n",
    "acabou_aula = None\n",
    "```"
   ]
  },
  {
   "cell_type": "markdown",
   "metadata": {},
   "source": [
    "## 2.2. Lists\n",
    "```python\n",
    "numbers = [1,2,3,4,5]\n",
    "\n",
    "len(numbers) \n",
    "# >> 5\n",
    "\n",
    "numbers[0] \n",
    "# >> 1\n",
    "\n",
    "numbers[0:3] \n",
    "# >> [1,2,3]\n",
    "```"
   ]
  },
  {
   "cell_type": "code",
   "execution_count": 3,
   "metadata": {
    "collapsed": true
   },
   "outputs": [],
   "source": []
  },
  {
   "cell_type": "markdown",
   "metadata": {},
   "source": [
    "## 2.3. Dictionary\n",
    "``` python\n",
    "person = {}\n",
    "person['name']='Cristian Munoz'\n",
    "person[42] = 'número favorito'\n",
    "person[(44.87 , -9)] = 'coordenadas'\n",
    "\n",
    "person\n",
    "# >> {'name': 'Cristian Munoz', 42: 'número favorito', (44.87, -9): 'coordenadas'}\n",
    "```"
   ]
  },
  {
   "cell_type": "code",
   "execution_count": null,
   "metadata": {
    "collapsed": true
   },
   "outputs": [],
   "source": []
  },
  {
   "cell_type": "markdown",
   "metadata": {},
   "source": [
    "## 2.4. Booleans\n",
    "\n",
    "Os boleanos em Python tem uma grande versatilidae:\n",
    "\n",
    "\n",
    "```python\n",
    "# Tudos são falso:\n",
    "False ==  0 == \" \" == {} == [] == None\n",
    "\n",
    "# Tudos são verdadeiro:\n",
    "True == 1 == \"Text\" == {'a':'b'} == ['c' , 'd']\n",
    "\n",
    "# Este é um booleano\n",
    "is_bi_class = True\n",
    "\n",
    "# Comparação Logica\n",
    "a and b\n",
    "\n",
    "# Comparação Or\n",
    "a or b\n",
    "\n",
    "# Logical Negation\n",
    "not a\n",
    "\n",
    "# Compound\n",
    "(a and not (b or c))\n",
    "```"
   ]
  },
  {
   "cell_type": "code",
   "execution_count": null,
   "metadata": {
    "collapsed": false
   },
   "outputs": [],
   "source": []
  },
  {
   "cell_type": "markdown",
   "metadata": {},
   "source": [
    "## 2.5. For Loop\n",
    "```python\n",
    "\n",
    "for x in range(10):\n",
    "    print(x)\n",
    "    \n",
    ">>  0\n",
    "    1\n",
    "    2\n",
    "    3\n",
    "    4\n",
    "    5\n",
    "    6\n",
    "    7\n",
    "    8\n",
    "    9\n",
    "```\n",
    "\n"
   ]
  },
  {
   "cell_type": "code",
   "execution_count": null,
   "metadata": {
    "collapsed": true
   },
   "outputs": [],
   "source": []
  },
  {
   "cell_type": "markdown",
   "metadata": {},
   "source": [
    "## 2.6. While Loop\n",
    "```python\n",
    "x = 0\n",
    "while x < 100:\n",
    "    print(x)\n",
    "    x += 1\n",
    "\n",
    ">>  0 \n",
    "    1\n",
    "    2\n",
    "    3\n",
    "    ...\n",
    "```"
   ]
  },
  {
   "cell_type": "code",
   "execution_count": null,
   "metadata": {
    "collapsed": true
   },
   "outputs": [],
   "source": []
  },
  {
   "cell_type": "markdown",
   "metadata": {},
   "source": [
    "# 3. Basic Function\n",
    "\n",
    "```python\n",
    "def my_function():\n",
    "    \"\"\"Function Documentation\"\"\"\n",
    "    print(\"Hello World\")\n",
    "```"
   ]
  },
  {
   "cell_type": "code",
   "execution_count": null,
   "metadata": {
    "collapsed": true
   },
   "outputs": [],
   "source": []
  }
 ],
 "metadata": {
  "kernelspec": {
   "display_name": "Python 3",
   "language": "python",
   "name": "python3"
  },
  "language_info": {
   "codemirror_mode": {
    "name": "ipython",
    "version": 3
   },
   "file_extension": ".py",
   "mimetype": "text/x-python",
   "name": "python",
   "nbconvert_exporter": "python",
   "pygments_lexer": "ipython3",
   "version": "3.5.2"
  }
 },
 "nbformat": 4,
 "nbformat_minor": 2
}
