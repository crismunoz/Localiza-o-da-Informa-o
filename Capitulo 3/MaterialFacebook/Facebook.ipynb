{
 "cells": [
  {
   "cell_type": "markdown",
   "metadata": {},
   "source": [
    "# Facebook SDK (Graph API)"
   ]
  },
  {
   "cell_type": "markdown",
   "metadata": {},
   "source": [
    "### Importamos os modulos necessarios para este exemplo:"
   ]
  },
  {
   "cell_type": "code",
   "execution_count": null,
   "metadata": {
    "collapsed": true
   },
   "outputs": [],
   "source": [
    "import facebook #pip install facebook-sdk\n",
    "import json\n",
    "import requests\n",
    "import matplotlib.pyplot as plt"
   ]
  },
  {
   "cell_type": "markdown",
   "metadata": {},
   "source": [
    "### Utilizamos esta função para uma melhor visualização dos objetos  Json"
   ]
  },
  {
   "cell_type": "code",
   "execution_count": null,
   "metadata": {
    "collapsed": true
   },
   "outputs": [],
   "source": [
    "facebook.__version__"
   ]
  },
  {
   "cell_type": "code",
   "execution_count": null,
   "metadata": {
    "collapsed": true
   },
   "outputs": [],
   "source": [
    "def showjson(obj):\n",
    "    print(json.dumps(obj, indent=2))"
   ]
  },
  {
   "cell_type": "code",
   "execution_count": null,
   "metadata": {
    "collapsed": true
   },
   "outputs": [],
   "source": [
    "ACCESS_TOKEN=\"TOKEN GRAPH FB\"\n",
    "g = facebook.GraphAPI(ACCESS_TOKEN)"
   ]
  },
  {
   "cell_type": "markdown",
   "metadata": {},
   "source": [
    "### Solicitando meu Id"
   ]
  },
  {
   "cell_type": "code",
   "execution_count": null,
   "metadata": {
    "collapsed": true
   },
   "outputs": [],
   "source": [
    "profile = g.get_object(\"me\")\n",
    "showjson(profile)"
   ]
  },
  {
   "cell_type": "markdown",
   "metadata": {},
   "source": [
    "### Procurando algum objeto (user, page, place,...)"
   ]
  },
  {
   "cell_type": "code",
   "execution_count": null,
   "metadata": {
    "collapsed": true
   },
   "outputs": [],
   "source": [
    "result = g.request(\"search\", {'q':'Joãozinho Joãozinho', 'type':'page'})\n",
    "showjson(result)"
   ]
  },
  {
   "cell_type": "markdown",
   "metadata": {},
   "source": [
    "### Solicitar o campo \"feed\" do o objeto procurado:"
   ]
  },
  {
   "cell_type": "code",
   "execution_count": null,
   "metadata": {
    "collapsed": true
   },
   "outputs": [],
   "source": [
    "joazinho_id = \"103837090307870\"\n",
    "feeds = g.get_object(joazinho_id,fields=\"feed\")\n",
    "showjson(feeds)"
   ]
  },
  {
   "cell_type": "markdown",
   "metadata": {},
   "source": [
    "### Solicitando likes de uma publicação:"
   ]
  },
  {
   "cell_type": "code",
   "execution_count": null,
   "metadata": {
    "collapsed": true
   },
   "outputs": [],
   "source": [
    "publication_id\"103837090307870_103859523638960\"\n",
    "publication = g.get_object(publication_id,fields=\"likes\")\n",
    "showjson(publication)"
   ]
  },
  {
   "cell_type": "markdown",
   "metadata": {},
   "source": [
    "### Contando likes de uma publicação:"
   ]
  },
  {
   "cell_type": "code",
   "execution_count": null,
   "metadata": {
    "collapsed": true
   },
   "outputs": [],
   "source": [
    "publication = g.get_object(\"103837090307870_103859523638960\",fields=\"likes.summary(true)\")\n",
    "showjson(publication)"
   ]
  },
  {
   "cell_type": "code",
   "execution_count": null,
   "metadata": {
    "collapsed": true
   },
   "outputs": [],
   "source": [
    "number_of_likes = publication['likes']['summary']['total_count']\n",
    "print(\"Número de likes: \", number_of_likes)"
   ]
  },
  {
   "cell_type": "markdown",
   "metadata": {},
   "source": [
    "# Caso: Likes Pepsi e Coca-Cola"
   ]
  },
  {
   "cell_type": "markdown",
   "metadata": {},
   "source": [
    "<img src=\"https://usercontent1.hubstatic.com/12781546.jpg\" width=200/>"
   ]
  },
  {
   "cell_type": "code",
   "execution_count": null,
   "metadata": {
    "collapsed": true
   },
   "outputs": [],
   "source": [
    "showjson(g.request('search', {'q':'pepsi', 'type':'page', 'limit':5}))\n",
    "showjson(g.request('search', {'q':'coke', 'type':'page', 'limit':5}))"
   ]
  },
  {
   "cell_type": "code",
   "execution_count": null,
   "metadata": {
    "collapsed": true
   },
   "outputs": [],
   "source": [
    "pepsi_id = \"178297347303\"\n",
    "coke_id = \"40796308305\""
   ]
  },
  {
   "cell_type": "code",
   "execution_count": null,
   "metadata": {
    "collapsed": true
   },
   "outputs": [],
   "source": [
    "def int_format(n): return \"{:,}\".format(n)"
   ]
  },
  {
   "cell_type": "code",
   "execution_count": null,
   "metadata": {
    "collapsed": true
   },
   "outputs": [],
   "source": [
    "pepsi_likes = g.get_object(pepsi_id,fields=\"likes\")\n",
    "coke_likes = g.get_object(coke_id,fields=\"likes\")\n",
    "\n",
    "print(\"Pepsi likes:\", int_format(pepsi_likes['likes']))\n",
    "print(\"Coke likes:\", int_format(coke_likes['likes']))"
   ]
  },
  {
   "cell_type": "markdown",
   "metadata": {},
   "source": [
    "# Analisando Pepsi Facebook Page"
   ]
  },
  {
   "cell_type": "markdown",
   "metadata": {},
   "source": [
    "**Objetivo**: Analisar uma publicação que pode ser viral"
   ]
  },
  {
   "cell_type": "code",
   "execution_count": null,
   "metadata": {
    "collapsed": true
   },
   "outputs": [],
   "source": [
    "showjson(g.get_connections(pepsi_id,'feed'))"
   ]
  },
  {
   "cell_type": "markdown",
   "metadata": {},
   "source": [
    "### Solicitando likes de uma publicação:"
   ]
  },
  {
   "cell_type": "markdown",
   "metadata": {},
   "source": [
    "<img src=\"img/likes.png\" width=200/>"
   ]
  },
  {
   "cell_type": "code",
   "execution_count": null,
   "metadata": {
    "collapsed": true
   },
   "outputs": [],
   "source": [
    "pepsi_feed = g.get_connections(pepsi_id,'feed', fields=\"likes.summary(true)\", limit=100)\n",
    "likes = {publication['id']:publication['likes']['summary']['total_count'] \\\n",
    "                            for publication in pepsi_feed['data']}"
   ]
  },
  {
   "cell_type": "markdown",
   "metadata": {},
   "source": [
    "Visualizamos o histograma de likes:"
   ]
  },
  {
   "cell_type": "code",
   "execution_count": null,
   "metadata": {
    "collapsed": true,
    "scrolled": true
   },
   "outputs": [],
   "source": [
    "plt.hist(list(likes.values()))\n",
    "plt.show()"
   ]
  },
  {
   "cell_type": "markdown",
   "metadata": {},
   "source": [
    "Quantas publicações tem menos de 20000 likes?"
   ]
  },
  {
   "cell_type": "code",
   "execution_count": null,
   "metadata": {
    "collapsed": true
   },
   "outputs": [],
   "source": [
    "viral_keys = [value for key,value in likes.items() if value<20000]\n",
    "plt.hist(viral_keys)\n",
    "plt.show()"
   ]
  },
  {
   "cell_type": "markdown",
   "metadata": {},
   "source": [
    "### Qual pode um publicação viral?"
   ]
  },
  {
   "cell_type": "code",
   "execution_count": null,
   "metadata": {
    "collapsed": true
   },
   "outputs": [],
   "source": [
    "viral_keys = [key for key,value in likes.items() if value>60000]\n",
    "viral_keys"
   ]
  },
  {
   "cell_type": "code",
   "execution_count": null,
   "metadata": {
    "collapsed": true
   },
   "outputs": [],
   "source": [
    "likes['178297347303_10154578245252304']"
   ]
  },
  {
   "cell_type": "code",
   "execution_count": null,
   "metadata": {
    "collapsed": true
   },
   "outputs": [],
   "source": [
    "viral_id = viral_keys[0]\n",
    "g.get_object(viral_id)"
   ]
  },
  {
   "cell_type": "markdown",
   "metadata": {},
   "source": [
    "### Avaliando reações de uma publicação"
   ]
  },
  {
   "cell_type": "markdown",
   "metadata": {},
   "source": [
    "<img src=\"img/reactions.png\" width=300/>\n",
    "\n",
    "<center>[Documents Reactions](https://developers.facebook.com/docs/graph-api/reference/v2.10/object/reactions)</center>"
   ]
  },
  {
   "cell_type": "code",
   "execution_count": null,
   "metadata": {
    "collapsed": true
   },
   "outputs": [],
   "source": [
    "fields=\"reactions.type(LOVE).limit(0).summary(true).as(love)\" + \\\n",
    "       \"%2Creactions.type(LIKE).limit(0).summary(true).as(like)\" + \\\n",
    "       \"%2Creactions.type(WOW).limit(0).summary(true).as(wow)\"\n",
    "\n",
    "url = 'https://graph.facebook.com/v2.10/%s?fields=%s&access_token=%s' % (viral_id , fields , ACCESS_TOKEN)\n",
    "json_obj = requests.get(url).json()"
   ]
  },
  {
   "cell_type": "code",
   "execution_count": null,
   "metadata": {
    "collapsed": true
   },
   "outputs": [],
   "source": [
    "json_obj = {\"like\": result['like']['summary']['total_count'],\n",
    "            \"love\": result['love']['summary']['total_count'],\n",
    "            \"wow\": result['wow']['summary']['total_count']\n",
    "           }"
   ]
  },
  {
   "cell_type": "markdown",
   "metadata": {},
   "source": [
    "Visualizando resultados"
   ]
  },
  {
   "cell_type": "code",
   "execution_count": null,
   "metadata": {
    "collapsed": true
   },
   "outputs": [],
   "source": [
    "index = range(len(json_obj))\n",
    "plt.bar(index, json_obj.values(), align='center')\n",
    "plt.xticks(index, list(json_obj.keys()))\n",
    "plt.show()"
   ]
  }
 ],
 "metadata": {
  "kernelspec": {
   "display_name": "Python 3",
   "language": "python",
   "name": "python3"
  },
  "language_info": {
   "codemirror_mode": {
    "name": "ipython",
    "version": 3
   },
   "file_extension": ".py",
   "mimetype": "text/x-python",
   "name": "python",
   "nbconvert_exporter": "python",
   "pygments_lexer": "ipython3",
   "version": "3.5.2"
  }
 },
 "nbformat": 4,
 "nbformat_minor": 2
}
