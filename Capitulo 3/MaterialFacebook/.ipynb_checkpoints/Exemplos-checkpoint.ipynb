{
 "cells": [
  {
   "cell_type": "markdown",
   "metadata": {},
   "source": [
    "# Exemplo 1: Google maps"
   ]
  },
  {
   "cell_type": "markdown",
   "metadata": {},
   "source": [
    "Criar autentificação: http://jupyter-gmaps.readthedocs.io/en/latest/authentication.html\n",
    "\n",
    "Tutorial gmaps: http://jupyter-gmaps.readthedocs.io/en/latest/gmaps.html"
   ]
  },
  {
   "cell_type": "code",
   "execution_count": null,
   "metadata": {
    "collapsed": true
   },
   "outputs": [],
   "source": [
    "import gmaps\n",
    "import gmaps.datasets\n",
    "import requests # pip install requests\n",
    "from bs4 import BeautifulSoup # pip install BeautifulSoup"
   ]
  },
  {
   "cell_type": "code",
   "execution_count": null,
   "metadata": {
    "collapsed": true
   },
   "outputs": [],
   "source": [
    "gmaps.configure(api_key=\"ACCES_TOKEN_GOOGLE\")\n",
    "fig = gmaps.figure()\n",
    "fig"
   ]
  },
  {
   "cell_type": "markdown",
   "metadata": {},
   "source": [
    "# Exemplo 2: Wikipedia with Google Maps"
   ]
  },
  {
   "cell_type": "code",
   "execution_count": null,
   "metadata": {
    "collapsed": true
   },
   "outputs": [],
   "source": [
    "URL = 'https://en.wikipedia.org/wiki/Salvador,_Bahia'\n",
    "req = requests.get(URL, headers={'User-Agent' : \"Mining the Social Web\"})\n",
    "soup = BeautifulSoup(req.text,\"html.parser\")"
   ]
  },
  {
   "cell_type": "code",
   "execution_count": null,
   "metadata": {
    "collapsed": true
   },
   "outputs": [],
   "source": [
    "def get_locations(geoTag):\n",
    "    if geoTag and len(geoTag) > 1:\n",
    "        lat = geoTag.find(True, 'latitude').string\n",
    "        lon = geoTag.find(True, 'longitude').string\n",
    "        print('Location is at', lat, lon)\n",
    "    elif geoTag and len(geoTag) == 1:\n",
    "        (lat, lon) = geoTag.string.split(';')\n",
    "        (lat, lon) = (lat.strip(), lon.strip())\n",
    "        print('Location is at', lat, lon)\n",
    "    else:\n",
    "        print('No location found')\n",
    "    return float(lat), float(lon)"
   ]
  },
  {
   "cell_type": "code",
   "execution_count": null,
   "metadata": {
    "collapsed": true
   },
   "outputs": [],
   "source": [
    "geoTag = soup.find(True, 'geo')\n",
    "location = get_locations(geoTag)\n",
    "fig = gmaps.figure()\n",
    "#fig = gmaps.figure(center=location, zoom_level=5)\n",
    "markers = gmaps.marker_layer([location])\n",
    "fig.add_layer(markers)\n",
    "fig"
   ]
  },
  {
   "cell_type": "markdown",
   "metadata": {},
   "source": [
    "# Exemplo 3: Facebook"
   ]
  },
  {
   "cell_type": "code",
   "execution_count": null,
   "metadata": {
    "collapsed": true
   },
   "outputs": [],
   "source": [
    "import facebook\n",
    "import json\n",
    "import requests\n",
    "import matplotlib.pyplot as plt"
   ]
  },
  {
   "cell_type": "code",
   "execution_count": null,
   "metadata": {
    "collapsed": true
   },
   "outputs": [],
   "source": [
    "ACCESS_TOKEN=\"ACESS_TOKEN_FB\"\n",
    "g = facebook.GraphAPI(ACCESS_TOKEN)\n",
    "\n",
    "result = g.request(\"search\", {'q':'Beach Sucos', 'type':'place'})"
   ]
  },
  {
   "cell_type": "code",
   "execution_count": null,
   "metadata": {
    "collapsed": true
   },
   "outputs": [],
   "source": [
    "ntop = 4\n",
    "likes = [g.get_object(res['id'],fields=\"likes\")['likes'] for res in result['data'][:ntop]]"
   ]
  },
  {
   "cell_type": "code",
   "execution_count": null,
   "metadata": {
    "collapsed": true
   },
   "outputs": [],
   "source": [
    "locations = []\n",
    "for index ,res in enumerate(result['data'][:ntop]):\n",
    "    print(index+1, res['name'],likes[index])\n",
    "    latitude , longitude= res['location']['latitude'] , res['location']['longitude']\n",
    "    location = (latitude , longitude)\n",
    "    locations.append(location)\n",
    "    \n",
    "fig = gmaps.figure()\n",
    "markers = gmaps.marker_layer(locations)\n",
    "fig.add_layer(markers)\n",
    "#markers = gmaps.heatmap_layer(locations, weights=likes, point_radius=50.0)\n",
    "#fig.add_layer(markers)\n",
    "fig"
   ]
  },
  {
   "cell_type": "markdown",
   "metadata": {},
   "source": [
    "# Exemplo 4: Search Google Maps"
   ]
  },
  {
   "cell_type": "code",
   "execution_count": null,
   "metadata": {
    "collapsed": true
   },
   "outputs": [],
   "source": [
    "import requests"
   ]
  },
  {
   "cell_type": "code",
   "execution_count": null,
   "metadata": {
    "collapsed": true
   },
   "outputs": [],
   "source": [
    "# api-endpoint\n",
    "URL = \"http://maps.googleapis.com/maps/api/geocode/json\"\n",
    " \n",
    "# location given here\n",
    "location = \"PUC Rio\"\n",
    " \n",
    "# defining a params dict for the parameters to be sent to the API\n",
    "PARAMS = {'address':location}\n",
    " \n",
    "# sending get request and saving the response as response object\n",
    "r = requests.get(url = URL, params = PARAMS)\n",
    " \n",
    "# extracting data in json format\n",
    "data = r.json()\n",
    " \n",
    "# extracting latitude, longitude and formatted address \n",
    "# of the first matching location\n",
    "result = data['results'][0]\n",
    "\n",
    "latitude = result['geometry']['location']['lat']\n",
    "longitude = result['geometry']['location']['lng']\n",
    "formatted_address = result['formatted_address']\n",
    " \n",
    "# printing the output\n",
    "# %s : variavel string\n",
    "# \\n : enter\n",
    "print(\"Latitude:%s\\nLongitude:%s\\nFormatted Address:%s\"\n",
    "      %(latitude, longitude,formatted_address))"
   ]
  },
  {
   "cell_type": "markdown",
   "metadata": {},
   "source": [
    "Exemplo marker:\n",
    "```python\n",
    "loc= (latitude, longitude)\n",
    "fig = gmaps.figure(center=loc, zoom_level=15)\n",
    "markers = gmaps.marker_layer([loc])\n",
    "fig.add_layer(markers)\n",
    "fig\n",
    "```"
   ]
  },
  {
   "cell_type": "code",
   "execution_count": null,
   "metadata": {
    "collapsed": true
   },
   "outputs": [],
   "source": []
  }
 ],
 "metadata": {
  "kernelspec": {
   "display_name": "Python 3",
   "language": "python",
   "name": "python3"
  },
  "language_info": {
   "codemirror_mode": {
    "name": "ipython",
    "version": 3
   },
   "file_extension": ".py",
   "mimetype": "text/x-python",
   "name": "python",
   "nbconvert_exporter": "python",
   "pygments_lexer": "ipython3",
   "version": "3.5.2"
  }
 },
 "nbformat": 4,
 "nbformat_minor": 2
}
