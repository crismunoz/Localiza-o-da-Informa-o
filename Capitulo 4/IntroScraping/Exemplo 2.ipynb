{
 "cells": [
  {
   "cell_type": "code",
   "execution_count": null,
   "metadata": {
    "collapsed": true
   },
   "outputs": [],
   "source": [
    "from urllib.request import urlretrieve\n",
    "from urllib.request import urlopen\n",
    "from bs4 import BeautifulSoup\n",
    "import subprocess\n",
    "import requests\n",
    "from PIL import Image\n",
    "from PIL import ImageOps\n",
    "import matplotlib.pyplot as plt"
   ]
  },
  {
   "cell_type": "code",
   "execution_count": null,
   "metadata": {
    "collapsed": true
   },
   "outputs": [],
   "source": [
    "def showImage(imagePath):\n",
    "    image = Image.open(imagePath)\n",
    "    plt.imshow(image)\n",
    "    plt.axis('off')\n",
    "    plt.show()\n",
    "    \n",
    "def cleanImage(imagePath):\n",
    "    image = Image.open(imagePath)\n",
    "    image = image.point(lambda x: 0 if x<143 else 255)\n",
    "    borderImage = ImageOps.expand(image, border=20, fill='white')\n",
    "    borderImage.save(imagePath)"
   ]
  },
  {
   "cell_type": "markdown",
   "metadata": {},
   "source": [
    "# SCRAPING"
   ]
  },
  {
   "cell_type": "code",
   "execution_count": null,
   "metadata": {
    "collapsed": true
   },
   "outputs": [],
   "source": [
    "html = urlopen(\"http://pythonscraping.com/humans-only\")\n",
    "bsObj = BeautifulSoup(html, \"html.parser\")\n",
    "# Coleta valores já informados no formulário\n",
    "imageLocation = bsObj.find(\"img\", {\"title\": \"Image CAPTCHA\"})[\"src\"]\n",
    "formBuildId = bsObj.find(\"input\", {\"name\": \"form_build_id\"})[\"value\"]\n",
    "captchaSid = bsObj.find(\"input\", {\"name\": \"captcha_sid\"})[\"value\"]\n",
    "captchaToken = bsObj.find(\"input\", {\"name\": \"captcha_token\"})[\"value\"]"
   ]
  },
  {
   "cell_type": "markdown",
   "metadata": {},
   "source": [
    "# Clean Image"
   ]
  },
  {
   "cell_type": "code",
   "execution_count": null,
   "metadata": {
    "collapsed": true
   },
   "outputs": [],
   "source": [
    "captchaUrl = \"http://pythonscraping.com\" + imageLocation\n",
    "urlretrieve(captchaUrl, \"captcha.jpg\")\n",
    "showImage(\"captcha.jpg\")\n",
    "cleanImage(\"captcha.jpg\")\n",
    "showImage(\"captcha.jpg\")"
   ]
  },
  {
   "cell_type": "markdown",
   "metadata": {},
   "source": [
    "# Ler captcha"
   ]
  },
  {
   "cell_type": "code",
   "execution_count": null,
   "metadata": {
    "collapsed": true
   },
   "outputs": [],
   "source": [
    "p = subprocess.Popen([\"tesseract\", \"captcha.jpg\", \"captcha\"], stdout= \\\n",
    "                     subprocess.PIPE, stderr=subprocess.PIPE)\n",
    "p.wait()\n",
    "\n",
    "#remove qualquer caracter de espaço em branco\n",
    "f = open(\"captcha.txt\", \"r\")\n",
    "captchaResponse = f.read().replace(\" \",\"\").replace(\"\\n\",\"\")\n",
    "print(\"Captcha solution attempt:\" + captchaResponse)"
   ]
  },
  {
   "cell_type": "markdown",
   "metadata": {},
   "source": [
    "# POST"
   ]
  },
  {
   "cell_type": "code",
   "execution_count": null,
   "metadata": {
    "collapsed": true
   },
   "outputs": [],
   "source": [
    "if len(captchaResponse) == 5:\n",
    "    params = {\"captcha_token\":captchaToken, \n",
    "              \"captcha_sid\": captchaSid, \n",
    "              \"form_id\":\"comment_node_page_form\", \n",
    "              \"form_build_id\":formBuildId,\n",
    "              \"captcha_response\":captchaResponse, \n",
    "              \"name\": \"Ryan Mitchell\",\n",
    "              \"subject\":\"I come to seek the Grail\",\n",
    "              \"comment_body[und][0][value]\":\"...and I am definitely not a bot\"}\n",
    "    \n",
    "    r = requests.post(\"http://pythonscraping.com/comment/reply/10\", data=params)\n",
    "    responseObj = BeautifulSoup(r.text, \"html.parser\")\n",
    "    if responseObj.find(\"div\", {\"class\":\"messages\"}) is not None:\n",
    "        print(responseObj.find(\"div\", {\"class\":\"messages\"}).get_text())\n",
    "else:\n",
    "    print(\"There was a problem reading te CAPTCHA correctly!\")"
   ]
  }
 ],
 "metadata": {
  "kernelspec": {
   "display_name": "Python 3",
   "language": "python",
   "name": "python3"
  },
  "language_info": {
   "codemirror_mode": {
    "name": "ipython",
    "version": 3
   },
   "file_extension": ".py",
   "mimetype": "text/x-python",
   "name": "python",
   "nbconvert_exporter": "python",
   "pygments_lexer": "ipython3",
   "version": "3.5.2"
  }
 },
 "nbformat": 4,
 "nbformat_minor": 2
}
