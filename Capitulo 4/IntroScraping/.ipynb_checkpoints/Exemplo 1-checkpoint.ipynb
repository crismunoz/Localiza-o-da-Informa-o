{
 "cells": [
  {
   "cell_type": "code",
   "execution_count": null,
   "metadata": {
    "collapsed": true
   },
   "outputs": [],
   "source": [
    "from bs4 import BeautifulSoup\n",
    "from urllib.request import urlopen"
   ]
  },
  {
   "cell_type": "code",
   "execution_count": null,
   "metadata": {},
   "outputs": [],
   "source": [
    "newfile = open('DataImdb.txt','w+')\n",
    "readHtml = urlopen('http://www.imdb.com/chart/moviemeter?ref_=nv_mv_mpm_8').read()\n",
    "soup = BeautifulSoup(readHtml,\"html.parser\")\n",
    "\n",
    "for movie in soup.find_all('td',class_=\"titleColumn\"):\n",
    "    title = movie.a.get_text()\n",
    "    year = movie.span.get_text()\n",
    "    strong =  movie.find_next(\"td\").strong\n",
    "    if strong is None:\n",
    "        rating = \"---\"\n",
    "    else:\n",
    "        rating = strong.get_text()\n",
    "    \n",
    "    print(title, year, rating)\n",
    "    strline = \"%s %s %s\\n\" % (title, year, rating)\n",
    "    newfile.write(strline)\n",
    "\n",
    "newfile.close()"
   ]
  }
 ],
 "metadata": {
  "kernelspec": {
   "display_name": "Python 3",
   "language": "python",
   "name": "python3"
  },
  "language_info": {
   "codemirror_mode": {
    "name": "ipython",
    "version": 3
   },
   "file_extension": ".py",
   "mimetype": "text/x-python",
   "name": "python",
   "nbconvert_exporter": "python",
   "pygments_lexer": "ipython3",
   "version": "3.5.2"
  }
 },
 "nbformat": 4,
 "nbformat_minor": 2
}
