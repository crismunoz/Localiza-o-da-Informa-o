{
 "cells": [
  {
   "cell_type": "markdown",
   "metadata": {},
   "source": [
    "# Análise de HTML avançada\n",
    "## Busqueda de Tag por atributos"
   ]
  },
  {
   "cell_type": "markdown",
   "metadata": {},
   "source": [
    "## Exemplo : [http://www.pythonscraping.com/pages/warandpeace.html](http://www.pythonscraping.com/pages/warandpeace.html)"
   ]
  },
  {
   "cell_type": "code",
   "execution_count": null,
   "metadata": {
    "collapsed": true
   },
   "outputs": [],
   "source": [
    "from urllib.request import urlopen\n",
    "from bs4 import BeautifulSoup\n",
    "\n",
    "html = urlopen(\"http://www.pythonscraping.com/pages/warandpeace.html\")\n",
    "\n",
    "bsObj = BeautifulSoup(html, 'html.parser')"
   ]
  },
  {
   "cell_type": "code",
   "execution_count": null,
   "metadata": {
    "collapsed": false
   },
   "outputs": [],
   "source": [
    "nameList = bsObj.findAll(\"span\", {\"class\" : \"green\"})\n",
    "\n",
    "for name in nameList:\n",
    "    print(name.get_text())"
   ]
  },
  {
   "cell_type": "code",
   "execution_count": null,
   "metadata": {
    "collapsed": true
   },
   "outputs": [],
   "source": [
    "# TODO: Falar sobre get_text()"
   ]
  },
  {
   "cell_type": "markdown",
   "metadata": {},
   "source": [
    "## 1. find e findAll com o BeautifulSoup"
   ]
  },
  {
   "cell_type": "code",
   "execution_count": null,
   "metadata": {
    "collapsed": false
   },
   "outputs": [],
   "source": [
    "help(bsObj.find) , help(bsObj.findAll) "
   ]
  },
  {
   "cell_type": "markdown",
   "metadata": {},
   "source": [
    "### Com Tags:\n",
    "Ex: Procurar todas as listas do cabeçalho de um documento:"
   ]
  },
  {
   "cell_type": "code",
   "execution_count": null,
   "metadata": {
    "collapsed": false
   },
   "outputs": [],
   "source": [
    "for titles in bsObj.findAll({'h1','h2'}):\n",
    "    print(titles.get_text())"
   ]
  },
  {
   "cell_type": "markdown",
   "metadata": {},
   "source": [
    "### Com atributos:\n",
    "Ex: Retornar todas as Tags span vermelhas e verdes"
   ]
  },
  {
   "cell_type": "code",
   "execution_count": null,
   "metadata": {
    "collapsed": false
   },
   "outputs": [],
   "source": [
    "for tag in bsObj.findAll(\"span\", {\"class\":(\"red\",\"green\")}):\n",
    "    print(tag)"
   ]
  },
  {
   "cell_type": "code",
   "execution_count": null,
   "metadata": {
    "collapsed": true
   },
   "outputs": [],
   "source": [
    "# Default: findAll: recursive =True "
   ]
  },
  {
   "cell_type": "markdown",
   "metadata": {},
   "source": [
    "### Com text\n",
    "Contar quantas vezes \"the prince\" foi inserido em tags na página:"
   ]
  },
  {
   "cell_type": "code",
   "execution_count": null,
   "metadata": {
    "collapsed": false
   },
   "outputs": [],
   "source": [
    "nameList = bsObj.findAll(text=\"the prince\")\n",
    "print(len(nameList))"
   ]
  },
  {
   "cell_type": "markdown",
   "metadata": {},
   "source": [
    "# Exemplo : [http://www.pythonscraping.com/pages/page3.html](\"http://www.pythonscraping.com/pages/page3.html\")\n",
    "\n",
    "* **tr**: table row\n",
    "* **th**: table header\n",
    "* **td**: table data\n",
    "\n",
    "```html\n",
    "<tr>\n",
    "<th>Descripção</th>\n",
    "<th>Custo</th>\n",
    "</tr>\n",
    "\n",
    "<tr>\n",
    "<td>Casa 1</td>\n",
    "<td>123000</td>\n",
    "</tr>\n",
    "\n",
    "<tr>\n",
    "<td>Casa 2</td>\n",
    "<td>110000</td>\n",
    "</tr>\n",
    "```"
   ]
  },
  {
   "cell_type": "code",
   "execution_count": null,
   "metadata": {
    "collapsed": true
   },
   "outputs": [],
   "source": [
    "from urllib.request import urlopen\n",
    "from bs4 import BeautifulSoup\n",
    "\n",
    "html = urlopen(\"http://www.pythonscraping.com/pages/page3.html\")\n",
    "bsObj = BeautifulSoup(html,\"html.parser\")"
   ]
  },
  {
   "cell_type": "markdown",
   "metadata": {},
   "source": [
    "### Lidando com filhos e outros descendentes:\n",
    "```html\n",
    "html\n",
    "- body\n",
    "    - div.wrapper\n",
    "        - h1\n",
    "        - div.content\n",
    "        - table#giftList\n",
    "            - tr\n",
    "                - th\n",
    "                - th\n",
    "                - th\n",
    "                - th\n",
    "            - tr.gift#gift1\n",
    "                - td\n",
    "                - td\n",
    "                    - span.excitingNote\n",
    "                - td\n",
    "                - td\n",
    "                    - img\n",
    "            - .... as linhas da tabela continuam ...\n",
    "```"
   ]
  },
  {
   "cell_type": "code",
   "execution_count": null,
   "metadata": {
    "collapsed": false
   },
   "outputs": [],
   "source": [
    "for child in bsObj.find(\"table\", {\"id\":\"giftList\"}).children: #descendants\n",
    "    print(child)"
   ]
  },
  {
   "cell_type": "markdown",
   "metadata": {},
   "source": [
    "### Lidando com irmãos:"
   ]
  },
  {
   "cell_type": "code",
   "execution_count": null,
   "metadata": {
    "collapsed": false
   },
   "outputs": [],
   "source": [
    "for sibling in bsObj.find(\"table\", {\"id\":\"giftList\"}).tr.next_siblings:\n",
    "    print(sibling)"
   ]
  },
  {
   "cell_type": "markdown",
   "metadata": {},
   "source": [
    "### Lidando com seus pais\n",
    "```html\n",
    "<tr>\n",
    "- <td>\n",
    "- <td>\n",
    "- <td>\n",
    "    - \"$15.00\"\n",
    "- <td>\n",
    "    - <img src=\"../img/gifts/img1.jpg\">\n",
    "```"
   ]
  },
  {
   "cell_type": "code",
   "execution_count": null,
   "metadata": {
    "collapsed": false
   },
   "outputs": [],
   "source": [
    "print(bsObj.find(\"img\", {\"src\":\"../img/gifts/img1.jpg\"}).parent.previous_sibling.get_text())"
   ]
  }
 ],
 "metadata": {
  "kernelspec": {
   "display_name": "Python 3",
   "language": "python",
   "name": "python3"
  },
  "language_info": {
   "codemirror_mode": {
    "name": "ipython",
    "version": 3
   },
   "file_extension": ".py",
   "mimetype": "text/x-python",
   "name": "python",
   "nbconvert_exporter": "python",
   "pygments_lexer": "ipython3",
   "version": "3.5.2"
  }
 },
 "nbformat": 4,
 "nbformat_minor": 2
}
