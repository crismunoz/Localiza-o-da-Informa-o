{
 "cells": [
  {
   "cell_type": "code",
   "execution_count": null,
   "metadata": {},
   "outputs": [],
   "source": [
    "import matplotlib.pyplot as plt\n",
    "import Utils as su\n",
    "import CollectTwiiter as ct"
   ]
  },
  {
   "cell_type": "markdown",
   "metadata": {},
   "source": [
    "### Configuramos nossa conta Twitter"
   ]
  },
  {
   "cell_type": "code",
   "execution_count": null,
   "metadata": {
    "collapsed": true
   },
   "outputs": [],
   "source": [
    "consumer_key=''\n",
    "consumer_secret=''\n",
    "access_token=''\n",
    "access_token_secret=''"
   ]
  },
  {
   "cell_type": "markdown",
   "metadata": {},
   "source": [
    "### Coletar tweets com a palavra Galaxy"
   ]
  },
  {
   "cell_type": "code",
   "execution_count": null,
   "metadata": {},
   "outputs": [],
   "source": [
    "tweets = ct.CollectTweets(consumer_key = consumer_key,\n",
    "                             consumer_secret = consumer_secret,\n",
    "                             access_token = access_token,\n",
    "                             access_token_secret = access_token_secret,\n",
    "                             lang = 'en',\n",
    "                             listwords=['galaxy'])"
   ]
  },
  {
   "cell_type": "markdown",
   "metadata": {},
   "source": [
    "### Tratamos os dados tirando palavras que não ficaram no analise"
   ]
  },
  {
   "cell_type": "code",
   "execution_count": null,
   "metadata": {},
   "outputs": [],
   "source": [
    "clean_tweets_reviews=[]\n",
    "for instance in tweets:\n",
    "    clean_tweets_reviews.append(su.review_to_words(instance, lang=\"en\"))"
   ]
  },
  {
   "cell_type": "markdown",
   "metadata": {},
   "source": [
    "### Realizamos o analise de sentimentos"
   ]
  },
  {
   "cell_type": "code",
   "execution_count": null,
   "metadata": {},
   "outputs": [],
   "source": [
    "from afinn import Afinn\n",
    "afinn = Afinn()  \n",
    " \n",
    "lista_sentimentos=[]\n",
    "for tweet in clean_tweets_reviews:\n",
    "    lista_sentimentos.append(afinn.score(tweet))\n",
    "      \n",
    "sentimento = sum(lista_sentimentos)\n",
    "if  sentimento> 0:\n",
    "    print(\"O sentimento é positivo\" , sentimento)\n",
    "else:\n",
    "    print(\"O sentimento é negativo\" , sentimento) \n",
    "    \n",
    "plt.hist(lista_sentimentos)\n",
    "plt.show()"
   ]
  }
 ],
 "metadata": {
  "kernelspec": {
   "display_name": "Python 3",
   "language": "python",
   "name": "python3"
  },
  "language_info": {
   "codemirror_mode": {
    "name": "ipython",
    "version": 3
   },
   "file_extension": ".py",
   "mimetype": "text/x-python",
   "name": "python",
   "nbconvert_exporter": "python",
   "pygments_lexer": "ipython3",
   "version": "3.5.2"
  }
 },
 "nbformat": 4,
 "nbformat_minor": 2
}
