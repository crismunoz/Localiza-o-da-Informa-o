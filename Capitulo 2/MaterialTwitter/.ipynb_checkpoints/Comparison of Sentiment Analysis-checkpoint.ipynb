{
 "cells": [
  {
   "cell_type": "code",
   "execution_count": null,
   "metadata": {},
   "outputs": [],
   "source": [
    "import Utils as su\n",
    "import CollectTwiiter as ct\n",
    "from afinn import Afinn"
   ]
  },
  {
   "cell_type": "code",
   "execution_count": null,
   "metadata": {
    "collapsed": true
   },
   "outputs": [],
   "source": [
    "afinn = Afinn()  "
   ]
  },
  {
   "cell_type": "code",
   "execution_count": null,
   "metadata": {
    "collapsed": true
   },
   "outputs": [],
   "source": [
    "consumer_key=''\n",
    "consumer_secret=''\n",
    "access_token=''\n",
    "access_token_secret=''"
   ]
  },
  {
   "cell_type": "markdown",
   "metadata": {},
   "source": [
    "# 1. Primeira palavra\n",
    "### Coletar tweets com a palavra ...."
   ]
  },
  {
   "cell_type": "code",
   "execution_count": null,
   "metadata": {
    "collapsed": true
   },
   "outputs": [],
   "source": [
    "tweets = ct.CollectTweets(consumer_key = consumer_key,\n",
    "                         consumer_secret = consumer_secret,\n",
    "                         access_token = access_token,\n",
    "                         access_token_secret = access_token_secret,\n",
    "                         lang = 'en',\n",
    "                         listwords=['galaxy'],\n",
    "                         numtweets = 300)"
   ]
  },
  {
   "cell_type": "markdown",
   "metadata": {},
   "source": [
    "### Tratamos os dados tirando palavras que não ficaram no analise ..."
   ]
  },
  {
   "cell_type": "code",
   "execution_count": null,
   "metadata": {},
   "outputs": [],
   "source": [
    "clean_tweets_reviews=[]\n",
    "for instance in tweets:\n",
    "    clean_tweets_reviews.append(su.review_to_words(instance, 'en'))\n",
    "\n",
    "lista_sentimentos=[]\n",
    "for tweet in clean_tweets_reviews:\n",
    "    lista_sentimentos.append(afinn.score(tweet))\n",
    "      \n",
    "clean_tweets_reviews_galaxy = clean_tweets_reviews\n",
    "lista_sentimentos_galaxy = lista_sentimentos"
   ]
  },
  {
   "cell_type": "markdown",
   "metadata": {},
   "source": [
    "# 2. Segunda palavra\n",
    "### Coletar tweets com a palavra ...."
   ]
  },
  {
   "cell_type": "code",
   "execution_count": null,
   "metadata": {},
   "outputs": [],
   "source": [
    "tweets = ct.CollectTweets(consumer_key = consumer_key,\n",
    "                             consumer_secret = consumer_secret,\n",
    "                             access_token = access_token,\n",
    "                             access_token_secret = access_token_secret,\n",
    "                             lang = 'en',\n",
    "                             listwords = ['iphone'],\n",
    "                             numtweets = 300)"
   ]
  },
  {
   "cell_type": "markdown",
   "metadata": {},
   "source": [
    "### Tratamos os dados tirando palavras que não ficaram no analise ..."
   ]
  },
  {
   "cell_type": "code",
   "execution_count": null,
   "metadata": {
    "collapsed": true
   },
   "outputs": [],
   "source": [
    "clean_tweets_reviews=[]\n",
    "for instance in tweets:\n",
    "    clean_tweets_reviews.append(su.review_to_words(instance, 'en'))\n",
    "\n",
    "lista_sentimentos=[]\n",
    "for tweet in clean_tweets_reviews:\n",
    "    lista_sentimentos.append(afinn.score(tweet))\n",
    "    \n",
    "clean_tweets_reviews_iphone = clean_tweets_reviews\n",
    "lista_sentimentos_iphone = lista_sentimentos"
   ]
  },
  {
   "cell_type": "markdown",
   "metadata": {},
   "source": [
    "### Comparando Sentimentos"
   ]
  },
  {
   "cell_type": "code",
   "execution_count": null,
   "metadata": {},
   "outputs": [],
   "source": [
    "import matplotlib.pyplot as plt\n",
    "import numpy as np\n",
    "\n",
    "galaxy = np.array(lista_sentimentos_galaxy)\n",
    "iphone = np.array(lista_sentimentos_iphone)\n",
    "\n",
    "plt.hist(galaxy, alpha=0.5, label='galaxy')\n",
    "plt.hist(iphone, alpha=0.5, label='iphone')\n",
    "plt.legend(loc='upper right')\n",
    "plt.show()"
   ]
  }
 ],
 "metadata": {
  "kernelspec": {
   "display_name": "Python 3",
   "language": "python",
   "name": "python3"
  },
  "language_info": {
   "codemirror_mode": {
    "name": "ipython",
    "version": 3
   },
   "file_extension": ".py",
   "mimetype": "text/x-python",
   "name": "python",
   "nbconvert_exporter": "python",
   "pygments_lexer": "ipython3",
   "version": "3.5.2"
  }
 },
 "nbformat": 4,
 "nbformat_minor": 2
}
