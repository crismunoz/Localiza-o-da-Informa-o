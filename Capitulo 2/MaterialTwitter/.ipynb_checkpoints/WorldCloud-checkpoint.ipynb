{
 "cells": [
  {
   "cell_type": "code",
   "execution_count": null,
   "metadata": {},
   "outputs": [],
   "source": [
    "import Utils as su\n",
    "import CollectTwiiter as ct\n",
    "from wordcloud import WordCloud\n",
    "import matplotlib.pyplot as plt"
   ]
  },
  {
   "cell_type": "code",
   "execution_count": null,
   "metadata": {
    "collapsed": true
   },
   "outputs": [],
   "source": [
    "consumer_key=''\n",
    "consumer_secret=''\n",
    "access_token=''\n",
    "access_token_secret=''"
   ]
  },
  {
   "cell_type": "markdown",
   "metadata": {},
   "source": [
    "# Coletar tweets com a palavra \" \""
   ]
  },
  {
   "cell_type": "code",
   "execution_count": null,
   "metadata": {},
   "outputs": [],
   "source": [
    "tweets = ct.CollectTweets(consumer_key = consumer_key,\n",
    "                          consumer_secret = consumer_secret,\n",
    "                          access_token = access_token,\n",
    "                          access_token_secret = access_token_secret,\n",
    "                          lang = 'pt',\n",
    "                          listwords = ['brasil'], \n",
    "                          numtweets = 300)"
   ]
  },
  {
   "cell_type": "code",
   "execution_count": null,
   "metadata": {},
   "outputs": [],
   "source": [
    "text = su.review_to_words(\" \".join(tweets), lang=\"pt\")"
   ]
  },
  {
   "cell_type": "code",
   "execution_count": null,
   "metadata": {},
   "outputs": [],
   "source": [
    "# Configuramos wordcloud com fundo branco\n",
    "wordcloud = WordCloud(background_color=\"white\", width=1600, height=800, collocations=True).generate(text)\n",
    "plt.figure( figsize=(20,10), facecolor='w')\n",
    "plt.imshow(wordcloud, interpolation='bilinear',cmap=plt.cm.gray)\n",
    "plt.axis(\"off\")\n",
    "plt.tight_layout(pad=0)\n",
    "plt.savefig('wordcloud.png')\n",
    "plt.show()"
   ]
  }
 ],
 "metadata": {
  "kernelspec": {
   "display_name": "Python 3",
   "language": "python",
   "name": "python3"
  },
  "language_info": {
   "codemirror_mode": {
    "name": "ipython",
    "version": 3
   },
   "file_extension": ".py",
   "mimetype": "text/x-python",
   "name": "python",
   "nbconvert_exporter": "python",
   "pygments_lexer": "ipython3",
   "version": "3.5.2"
  }
 },
 "nbformat": 4,
 "nbformat_minor": 2
}
